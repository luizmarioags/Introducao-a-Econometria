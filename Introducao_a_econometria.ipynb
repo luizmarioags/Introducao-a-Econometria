{
 "cells": [
  {
   "cell_type": "markdown",
   "metadata": {},
   "source": [
    "## Introdução à Econometria \n",
    "Notebook dedicado a colocar as soluções e códigos para alguns exercícios da disciplina de introdução à econometria no 1o semestre de 2022."
   ]
  },
  {
   "cell_type": "code",
   "execution_count": 3,
   "metadata": {},
   "outputs": [],
   "source": [
    "# Importando as bibliotecas necessárias \n",
    "import numpy as np \n",
    "import scipy \n",
    "import pandas as pd \n",
    "import matplotlib.pyplot as plt \n",
    "import seaborn as sns "
   ]
  },
  {
   "cell_type": "markdown",
   "metadata": {},
   "source": [
    "## Lista de Exercícios 1"
   ]
  },
  {
   "cell_type": "markdown",
   "metadata": {},
   "source": [
    "$\\textbf{Questão 1}$\n",
    "* b) Calcule a média e a mediana da amostra"
   ]
  },
  {
   "cell_type": "code",
   "execution_count": 4,
   "metadata": {},
   "outputs": [
    {
     "name": "stdout",
     "output_type": "stream",
     "text": [
      "566.0\n",
      "505.0\n"
     ]
    }
   ],
   "source": [
    "# Dada uma amostra de 10 famílias cujas as despesas são dadas pela seguinte lista\n",
    "despesas = [300,440,350,1100,640,480,450,700,670,530]\n",
    "# Cálculo da média usando o np.mean()\n",
    "media = np.mean(despesas)\n",
    "print(media)\n",
    "# Cálculo da mediana da amostra usando o np.median()\n",
    "mediana = np.median(despesas)\n",
    "print(mediana)"
   ]
  },
  {
   "cell_type": "markdown",
   "metadata": {},
   "source": [
    "* c) Calcule a média e a mediana se a undide de medida fosse em centenas de dólares"
   ]
  },
  {
   "cell_type": "code",
   "execution_count": 6,
   "metadata": {},
   "outputs": [
    {
     "name": "stdout",
     "output_type": "stream",
     "text": [
      "5.66\n",
      "5.05\n"
     ]
    }
   ],
   "source": [
    "# Primeiramente podemos simplesmente dividir os nossos resultados por 100\n",
    "media_centenas_dolares = media/100\n",
    "mediana_centenas_dolares = mediana/100\n",
    "print(media_centenas_dolares)\n",
    "print(mediana_centenas_dolares)\n"
   ]
  },
  {
   "cell_type": "markdown",
   "metadata": {},
   "source": [
    "* d) Calcule a nova média caso a família 8 aumente sua despesa de 700 para 900 dólares por mês"
   ]
  },
  {
   "cell_type": "code",
   "execution_count": 8,
   "metadata": {},
   "outputs": [
    {
     "name": "stdout",
     "output_type": "stream",
     "text": [
      "586.0\n",
      "505.0\n"
     ]
    }
   ],
   "source": [
    "# Caso a família 8 aumentar a sua despesa de 700 para 900 doláres temos que a nova lista de despesas é:\n",
    "despesas_nova = [300,440,350,1100,640,480,450,900,670,530]\n",
    "# Cáculo da média \n",
    "media_nova = np.mean(despesas_nova)\n",
    "print(media_nova)\n",
    "# A mediana não se altera, pois a família 8 não é um valor central da distribuição, como pode ser visto abaixo:\n",
    "mediana_nova = np.median(despesas_nova)\n",
    "print(mediana_nova)"
   ]
  },
  {
   "cell_type": "markdown",
   "metadata": {},
   "source": [
    "$\\textbf{Questão 3}$\n",
    "\n",
    "Devemos considerar primeiramente a esperança condicional entre as variáveis $IRA \\in [0,4]$ e $SAT \\in [400,1600]$ em que $IRA$ corresponde ao índice de rendimento acadêmico do aluno e $SAT$ a sua nota no vestibular. A expressão da esperança condicional é dada por:\n",
    "\\begin{equation}\n",
    "E(IRA|SAT) = 0,70 + 0,002SAT\n",
    "\\end{equation}"
   ]
  },
  {
   "cell_type": "markdown",
   "metadata": {},
   "source": [
    "* a) Calcule o $IRA$ esperado quando $SAT = 800$ e faça também para $SAT = 1400$, isto é, $E(IRA|SAT = 1400)$ e comente a diferença entre eles"
   ]
  },
  {
   "cell_type": "code",
   "execution_count": 11,
   "metadata": {},
   "outputs": [
    {
     "name": "stdout",
     "output_type": "stream",
     "text": [
      "2.3\n",
      "3.5\n"
     ]
    }
   ],
   "source": [
    "# Definindo as variáveis e a expressão da esperança condicional\n",
    "# Para SAT = 800\n",
    "esp_cond_sat_800 = 0.70 + 0.002*(800)\n",
    "# Para SAT = 1400\n",
    "esp_cond_sat_1400 = 0.70 + 0.002*(1400) \n",
    "print(esp_cond_sat_800)\n",
    "print(esp_cond_sat_1400)"
   ]
  },
  {
   "cell_type": "markdown",
   "metadata": {},
   "source": [
    "Essa diferença ocorre por que quando temos $SAT = 1400$ temos também a implicação do aumento do $IRA$, dado que ele esta perto do limite do intervalo definido."
   ]
  },
  {
   "cell_type": "markdown",
   "metadata": {},
   "source": [
    "* c) Calcule o valor esperado do $IRA$, isto é $E(IRA)$, sabendo que o $SAT$ esperado em uma universidade, isto é $E(SAT)$, é $1100$.\n",
    "Usar a Lei das Esperanças Interadas:\n",
    "\\begin{equation}\n",
    "E(E(IRA|SAT)) = 0,70 + 0,002E(SAT) \\rightarrow E(IRA) = 0,70 + 0,002E(SAT)\n",
    "\\end{equation}"
   ]
  },
  {
   "cell_type": "code",
   "execution_count": 12,
   "metadata": {},
   "outputs": [
    {
     "name": "stdout",
     "output_type": "stream",
     "text": [
      "2.9000000000000004\n"
     ]
    }
   ],
   "source": [
    "# Definindo as variáveis \n",
    "esp_sat = 1100\n",
    "esp_ira = 0.70 + 0.002*esp_sat\n",
    "print(esp_ira)"
   ]
  },
  {
   "cell_type": "code",
   "execution_count": null,
   "metadata": {},
   "outputs": [],
   "source": []
  }
 ],
 "metadata": {
  "kernelspec": {
   "display_name": "Python 3.9.12 ('base')",
   "language": "python",
   "name": "python3"
  },
  "language_info": {
   "codemirror_mode": {
    "name": "ipython",
    "version": 3
   },
   "file_extension": ".py",
   "mimetype": "text/x-python",
   "name": "python",
   "nbconvert_exporter": "python",
   "pygments_lexer": "ipython3",
   "version": "3.9.12"
  },
  "orig_nbformat": 4,
  "vscode": {
   "interpreter": {
    "hash": "e99ce7e66590d6f8b3efc9cf1c44dd6c09d9d8006d163a3b1ceeae72da821969"
   }
  }
 },
 "nbformat": 4,
 "nbformat_minor": 2
}
